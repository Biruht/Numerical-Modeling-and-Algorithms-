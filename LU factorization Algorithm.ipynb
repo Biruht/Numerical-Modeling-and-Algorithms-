
import numpy as np
from scipy.linalg import lu

def factorization(A):
    # This function takes a non-singular matrix A and breaks it into lower and upper triangular matrices
    
    # Define the rows and columns of the matrix
    n = np.size(A,0)
    
    #  Initialize the lower and upper matrices
    L_M = np.zeros((n,n))
    U_M = np.zeros((n,n))
    
    # base case
    if np.size(A,0) == 1:
        L_M[0,0] = 1
        U_M[0,0] = A[0,0]
        return L_M,U_M
    
    # from the base case, build lower and upper triangular matrix
    
    else:
        A_new = new_A(A)
        # Recursively call factorization onthe new matrix (A_new) until the base case yields trivial solution 
        L_M, U_M = factorization(A_new)
        # from the base case, build upper and lower matrices
        L_M = Lower_matrix(L_M,A)
        U_M = Upper_matrix(U_M,A)
        return L_M, U_M
    return L_M, U_M

def new_A(A):
    # This function breaks down the A matrix to extract last rows and columns of upper and lower matrices by 
    # substracting their product from their respective rows and columns in the A matrix
    n = np.size(A,0)
    
    # First element of the A matrix
    A_11 = A[0,0]
    
    lower = (1/A_11)*(A[1:n,0])
    lower = lower.reshape(n-1,1)
    
    upper =A[0,1:n]
    upper = upper.reshape(1,n-1)
    product = lower * upper
    
    A_new = A[1:n,1:n] - product
    return A_new
    
def Lower_matrix(L_M,A):
    # Define the row/column of A
    n = np.size(A,0)
    
    # Get the first column of the lower triangular matrix by
    # slicing A and dividing it by the element in the first row and first column
    
    column = A[1:n,0]
    column = 1/A[0,0]*(column.reshape(n-1,1))
    
    # Build the lower matrix from the base case by putting together the column and 
    # filling the first element of the matrix with 1, the last element with the lower matrix from previous iteration
    # And the rest of elements with zero. 
    
    L_M=np.block([
            [np.array([1]),np.zeros(n-1)],
            [column, L_M]
            ])
    return L_M

def Upper_matrix(U_M,A):
    # Define the row/column of A
    n = np.size(A,0)
    
    # First row of the upper matrix is the same as A
    # The first column has zeros
    # The last element is upper matrix from previous iteration
    
    column = np.zeros(n-1)
    column = column.reshape(n-1,1)
    
    U_M=np.block([
        [A[0,0],A[0,1:n]],
        [column, U_M]
        ])
    return U_M

def main():
    A_1 = np.array([[8,3,2],[1,2,6],[6,8,9]])
    A_3 =  np.array([[0,-1],[3,4]])
    
    # To change the matrix, assign A to different matrix
    
    A = A_1

    # Check if the first element is zero and if it is change it

    n = np.size(A,0)
    for i in range(0,n):
        if A[i,0] == 0 and A[i+1,0] != 0:
            A[[i,i+1]] =A[[i+1,i]] 
            break
        else:
            break
    print(A)
    L_M,U_M = factorization(A)


    print('LOWER TRIANGULAR MATRIX')
    print('---------------------')
    print('                  ')
    print(L_M)
    
    print('                  ')
    print('UPPER TRIANGULAR MATRIX')
    print('----------------------')
    print('                  ')
    print(U_M)
    
    print('product of L and U')
    
    print('                  ')
    product= np.matmul(L_M, U_M)
    print(product)
    
    p,l,u = lu(A)
    
    print('                  ')
    print('FROM SCIPY LIG')
    print('------------------')

    print('Lower triangular matrix')
    print(l)
    print('                  ')
    print('upper triangular matrix')
    print(u)
    
    
    print(l)
    print('                  ')
    print('Product of L and U from SCIPLY LIG')
    
    
    print(np.matmul(l,u))
          
main()
[[8 3 2]
 [1 2 6]
 [6 8 9]]
LOWER TRIANGULAR MATRIX
---------------------
                  
[[1.         0.         0.        ]
 [0.125      1.         0.        ]
 [0.75       3.53846154 1.        ]]
                  
UPPER TRIANGULAR MATRIX
----------------------
                  
[[  8.           3.           2.        ]
 [  0.           1.625        5.75      ]
 [  0.           0.         -12.84615385]]
product of L and U
                  
[[8. 3. 2.]
 [1. 2. 6.]
 [6. 8. 9.]]
                  
FROM SCIPY LIG
------------------
Lower triangular matrix
[[1.        0.        0.       ]
 [0.75      1.        0.       ]
 [0.125     0.2826087 1.       ]]
                  
upper triangular matrix
[[8.         3.         2.        ]
 [0.         5.75       7.5       ]
 [0.         0.         3.63043478]]
[[1.        0.        0.       ]
 [0.75      1.        0.       ]
 [0.125     0.2826087 1.       ]]
                  
Product of L and U from SCIPLY LIG
[[8. 3. 2.]
 [6. 8. 9.]
 [1. 2. 6.]]
